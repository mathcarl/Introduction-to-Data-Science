{
  "nbformat": 4,
  "nbformat_minor": 0,
  "metadata": {
    "colab": {
      "name": "_A2_JPerez.ipynb",
      "provenance": [],
      "collapsed_sections": [
        "GLi0m9uuKkpD"
      ],
      "include_colab_link": true
    },
    "kernelspec": {
      "display_name": "Python [default]",
      "language": "python",
      "name": "python3"
    },
    "language_info": {
      "codemirror_mode": {
        "name": "ipython",
        "version": 3
      },
      "file_extension": ".py",
      "mimetype": "text/x-python",
      "name": "python",
      "nbconvert_exporter": "python",
      "pygments_lexer": "ipython3",
      "version": "3.6.8"
    }
  },
  "cells": [
    {
      "cell_type": "markdown",
      "metadata": {
        "id": "view-in-github",
        "colab_type": "text"
      },
      "source": [
        "<a href=\"https://colab.research.google.com/github/mathcarl/Introduction-to-Data-Science/blob/main/_A2_DataScience.ipynb\" target=\"_parent\"><img src=\"https://colab.research.google.com/assets/colab-badge.svg\" alt=\"Open In Colab\"/></a>"
      ]
    },
    {
      "cell_type": "markdown",
      "metadata": {
        "id": "p78j872pOKTZ"
      },
      "source": [
        "# CAP 5768 - Data Science \n"
      ]
    },
    {
      "cell_type": "markdown",
      "metadata": {
        "id": "NYmNMHGLOKTa"
      },
      "source": [
        "# Assignment 2: Exploratory Data Analysis (EDA)\n",
        "## STARTER "
      ]
    },
    {
      "cell_type": "markdown",
      "metadata": {
        "id": "9UMnsRndOKTb"
      },
      "source": [
        "### Goals \n",
        "\n",
        "- To acquire a basic understanding of the Python \"data science stack\" (NumPy, Pandas, Matplotlib).\n",
        "- To have an early experience of manipulating, summarizing, and visualizing small datasets. \n",
        "- To demonstrate the ability to write Python code to answer questions and test hypotheses based on the contents of those datasets.\n"
      ]
    },
    {
      "cell_type": "markdown",
      "metadata": {
        "id": "B0rEAT7MOKTb"
      },
      "source": [
        "### Instructions\n",
        "\n",
        "- This assignment is structured in two parts.\n",
        "- For each part, there will be some Python code to be written and questions to be answered.\n",
        "- At the end, you should export your notebook to PDF format; it will \"automagically\" become your report.\n",
        "- Submit the report (PDF), notebook (.ipynb file), and the link to the \"live\" version of your solution on Google Colaboratory via Canvas.\n",
        "- The number of points is indicated next to each part. They add up to 100.\n",
        "- There are additional (20 points worth of) bonus items, which are, of course optional."
      ]
    },
    {
      "cell_type": "markdown",
      "metadata": {
        "id": "qiufouQn6OD9"
      },
      "source": [
        "### Important\n",
        "\n",
        "- It is OK to attempt the bonus points, but please **do not overdo it!** \n",
        "- Remember: this is an early exercise in exploring datasets; learning the syntax and \"tricks\" of Python, Jupyter notebooks, Numpy, Pandas, and Matplotlib; and writing code to test simple hypotheses and produce answers to simple questions that **you know you should be able to answer** because the answer can be pulled from the data.\n",
        "- This is not (yet) the time to do sophisticated statistical analysis, train ML models, etc. "
      ]
    },
    {
      "cell_type": "markdown",
      "metadata": {
        "id": "UgM90DRHHHdK"
      },
      "source": [
        "---------\n",
        "### Imports + Google Drive"
      ]
    },
    {
      "cell_type": "code",
      "metadata": {
        "id": "5uC7gGB7H_Kz"
      },
      "source": [
        "# Imports\n",
        "import numpy as np\n",
        "import pandas as pd\n",
        "from pandas import DataFrame, Series\n",
        "import matplotlib.pyplot as plt\n",
        "from scipy.stats import pearsonr\n",
        "from __future__ import division\n",
        "import seaborn as sns\n",
        "sns.set(style='ticks', palette='Set2')\n",
        "%matplotlib inline"
      ],
      "execution_count": null,
      "outputs": []
    },
    {
      "cell_type": "code",
      "metadata": {
        "id": "B2qHzn_CG8rZ",
        "colab": {
          "base_uri": "https://localhost:8080/",
          "height": 34
        },
        "outputId": "3118f4e4-d189-42d2-84fd-8b25228ae6df"
      },
      "source": [
        "# Mount Google Drive\n",
        "from google.colab import drive\n",
        "drive.mount('/content/drive')"
      ],
      "execution_count": null,
      "outputs": [
        {
          "output_type": "stream",
          "text": [
            "Drive already mounted at /content/drive; to attempt to forcibly remount, call drive.mount(\"/content/drive\", force_remount=True).\n"
          ],
          "name": "stdout"
        }
      ]
    },
    {
      "cell_type": "markdown",
      "metadata": {
        "id": "G2J9o001OKTx"
      },
      "source": [
        "-------------------\n",
        "## Part 1: Salaries"
      ]
    },
    {
      "cell_type": "markdown",
      "metadata": {
        "id": "T1EXw38-OKTy"
      },
      "source": [
        "The Python code below will load a dataset containing the salaries and demographic data of more than 1000 employees of a hypothetical company, available in the file *salaries.csv*, which is a simple comma-separated list of labels and values."
      ]
    },
    {
      "cell_type": "code",
      "metadata": {
        "id": "lv1MGinjOKTz",
        "colab": {
          "base_uri": "https://localhost:8080/",
          "height": 153
        },
        "outputId": "028b7314-237e-4c34-8a0f-23a1c37d20c1"
      },
      "source": [
        "salaries = pd.read_csv('/content/drive/My Drive/Colab Notebooks/data/salaries.csv') \n",
        "#salaries = pd.read_csv('./data/salaries.csv') \n",
        "salaries=pd.DataFrame(salaries)\n",
        "print(salaries.shape)\n",
        "print(salaries.count())\n",
        "salaries['sex']=salaries['sex'].str.capitalize() # Capitalize all first letter in column (sex).\n"
      ],
      "execution_count": null,
      "outputs": [
        {
          "output_type": "stream",
          "text": [
            "(1192, 6)\n",
            "earn      1192\n",
            "height    1192\n",
            "sex       1192\n",
            "ed        1192\n",
            "age       1192\n",
            "race      1192\n",
            "dtype: int64\n"
          ],
          "name": "stdout"
        }
      ]
    },
    {
      "cell_type": "markdown",
      "metadata": {
        "id": "wxwNfCp1OKT2"
      },
      "source": [
        "### 1.1 Your turn! (2 points)\n",
        "\n",
        "What is the meaning of each of the six variables/features stored along the columns of the dataset?\n",
        "\n",
        "Hint: Your solution should have a code cell (2-3 lines of Python) + a text cell (bullet list, explaining the meaning of each variable _to the best of your knowledge_)"
      ]
    },
    {
      "cell_type": "code",
      "metadata": {
        "id": "R87GQz-ILPv4",
        "colab": {
          "base_uri": "https://localhost:8080/",
          "height": 425
        },
        "outputId": "0f8eb570-0740-4ace-8b64-20a7fefc25c1"
      },
      "source": [
        "# Find information about the variables\n",
        "salaries=salaries.astype({'height': int}) # Convert height to integers\n",
        "\n",
        "salaries.columns # Print name of each column\n",
        "\n",
        "salaries.info() # Type of data in the columns\n",
        "\n",
        "salaries.head() # The first 5 rows in the data\n",
        "\n",
        "\n"
      ],
      "execution_count": null,
      "outputs": [
        {
          "output_type": "stream",
          "text": [
            "<class 'pandas.core.frame.DataFrame'>\n",
            "RangeIndex: 1192 entries, 0 to 1191\n",
            "Data columns (total 6 columns):\n",
            " #   Column  Non-Null Count  Dtype  \n",
            "---  ------  --------------  -----  \n",
            " 0   earn    1192 non-null   float64\n",
            " 1   height  1192 non-null   int64  \n",
            " 2   sex     1192 non-null   object \n",
            " 3   ed      1192 non-null   int64  \n",
            " 4   age     1192 non-null   int64  \n",
            " 5   race    1192 non-null   object \n",
            "dtypes: float64(1), int64(3), object(2)\n",
            "memory usage: 56.0+ KB\n"
          ],
          "name": "stdout"
        },
        {
          "output_type": "execute_result",
          "data": {
            "text/html": [
              "<div>\n",
              "<style scoped>\n",
              "    .dataframe tbody tr th:only-of-type {\n",
              "        vertical-align: middle;\n",
              "    }\n",
              "\n",
              "    .dataframe tbody tr th {\n",
              "        vertical-align: top;\n",
              "    }\n",
              "\n",
              "    .dataframe thead th {\n",
              "        text-align: right;\n",
              "    }\n",
              "</style>\n",
              "<table border=\"1\" class=\"dataframe\">\n",
              "  <thead>\n",
              "    <tr style=\"text-align: right;\">\n",
              "      <th></th>\n",
              "      <th>earn</th>\n",
              "      <th>height</th>\n",
              "      <th>sex</th>\n",
              "      <th>ed</th>\n",
              "      <th>age</th>\n",
              "      <th>race</th>\n",
              "    </tr>\n",
              "  </thead>\n",
              "  <tbody>\n",
              "    <tr>\n",
              "      <th>0</th>\n",
              "      <td>50000.0</td>\n",
              "      <td>74</td>\n",
              "      <td>Male</td>\n",
              "      <td>16</td>\n",
              "      <td>45</td>\n",
              "      <td>white</td>\n",
              "    </tr>\n",
              "    <tr>\n",
              "      <th>1</th>\n",
              "      <td>60000.0</td>\n",
              "      <td>65</td>\n",
              "      <td>Female</td>\n",
              "      <td>16</td>\n",
              "      <td>58</td>\n",
              "      <td>white</td>\n",
              "    </tr>\n",
              "    <tr>\n",
              "      <th>2</th>\n",
              "      <td>30000.0</td>\n",
              "      <td>63</td>\n",
              "      <td>Female</td>\n",
              "      <td>16</td>\n",
              "      <td>29</td>\n",
              "      <td>white</td>\n",
              "    </tr>\n",
              "    <tr>\n",
              "      <th>3</th>\n",
              "      <td>50000.0</td>\n",
              "      <td>63</td>\n",
              "      <td>Female</td>\n",
              "      <td>16</td>\n",
              "      <td>91</td>\n",
              "      <td>other</td>\n",
              "    </tr>\n",
              "    <tr>\n",
              "      <th>4</th>\n",
              "      <td>51000.0</td>\n",
              "      <td>63</td>\n",
              "      <td>Female</td>\n",
              "      <td>17</td>\n",
              "      <td>39</td>\n",
              "      <td>white</td>\n",
              "    </tr>\n",
              "  </tbody>\n",
              "</table>\n",
              "</div>"
            ],
            "text/plain": [
              "      earn  height     sex  ed  age   race\n",
              "0  50000.0      74    Male  16   45  white\n",
              "1  60000.0      65  Female  16   58  white\n",
              "2  30000.0      63  Female  16   29  white\n",
              "3  50000.0      63  Female  16   91  other\n",
              "4  51000.0      63  Female  17   39  white"
            ]
          },
          "metadata": {
            "tags": []
          },
          "execution_count": 4
        }
      ]
    },
    {
      "cell_type": "code",
      "metadata": {
        "id": "emmgUMKxyD-n",
        "colab": {
          "base_uri": "https://localhost:8080/",
          "height": 204
        },
        "outputId": "d40f5a9e-f17f-41f8-9279-5036813206a4"
      },
      "source": [
        "salaries.tail() # print the last 5 rows of the data."
      ],
      "execution_count": null,
      "outputs": [
        {
          "output_type": "execute_result",
          "data": {
            "text/html": [
              "<div>\n",
              "<style scoped>\n",
              "    .dataframe tbody tr th:only-of-type {\n",
              "        vertical-align: middle;\n",
              "    }\n",
              "\n",
              "    .dataframe tbody tr th {\n",
              "        vertical-align: top;\n",
              "    }\n",
              "\n",
              "    .dataframe thead th {\n",
              "        text-align: right;\n",
              "    }\n",
              "</style>\n",
              "<table border=\"1\" class=\"dataframe\">\n",
              "  <thead>\n",
              "    <tr style=\"text-align: right;\">\n",
              "      <th></th>\n",
              "      <th>earn</th>\n",
              "      <th>height</th>\n",
              "      <th>sex</th>\n",
              "      <th>ed</th>\n",
              "      <th>age</th>\n",
              "      <th>race</th>\n",
              "    </tr>\n",
              "  </thead>\n",
              "  <tbody>\n",
              "    <tr>\n",
              "      <th>1187</th>\n",
              "      <td>19000.0</td>\n",
              "      <td>72</td>\n",
              "      <td>Male</td>\n",
              "      <td>12</td>\n",
              "      <td>29</td>\n",
              "      <td>white</td>\n",
              "    </tr>\n",
              "    <tr>\n",
              "      <th>1188</th>\n",
              "      <td>15000.0</td>\n",
              "      <td>61</td>\n",
              "      <td>Female</td>\n",
              "      <td>18</td>\n",
              "      <td>82</td>\n",
              "      <td>white</td>\n",
              "    </tr>\n",
              "    <tr>\n",
              "      <th>1189</th>\n",
              "      <td>8000.0</td>\n",
              "      <td>63</td>\n",
              "      <td>Female</td>\n",
              "      <td>12</td>\n",
              "      <td>33</td>\n",
              "      <td>white</td>\n",
              "    </tr>\n",
              "    <tr>\n",
              "      <th>1190</th>\n",
              "      <td>60000.0</td>\n",
              "      <td>71</td>\n",
              "      <td>Male</td>\n",
              "      <td>12</td>\n",
              "      <td>50</td>\n",
              "      <td>white</td>\n",
              "    </tr>\n",
              "    <tr>\n",
              "      <th>1191</th>\n",
              "      <td>6000.0</td>\n",
              "      <td>68</td>\n",
              "      <td>Male</td>\n",
              "      <td>12</td>\n",
              "      <td>27</td>\n",
              "      <td>white</td>\n",
              "    </tr>\n",
              "  </tbody>\n",
              "</table>\n",
              "</div>"
            ],
            "text/plain": [
              "         earn  height     sex  ed  age   race\n",
              "1187  19000.0      72    Male  12   29  white\n",
              "1188  15000.0      61  Female  18   82  white\n",
              "1189   8000.0      63  Female  12   33  white\n",
              "1190  60000.0      71    Male  12   50  white\n",
              "1191   6000.0      68    Male  12   27  white"
            ]
          },
          "metadata": {
            "tags": []
          },
          "execution_count": 5
        }
      ]
    },
    {
      "cell_type": "markdown",
      "metadata": {
        "id": "Ib2qJbwDLSP5"
      },
      "source": [
        "***Description of columns***\n",
        "\n",
        "The data has 1192 samples and 6 attributes(3 integers, 1 float, 2 objects)  that include:\n",
        "1.   earn = Annual salary( USD ).\n",
        "2.   height = Height in inches.\n",
        "3.   sex =  Gender of employee male or female.\n",
        "4.   ed = Education in years\n",
        "5.   age = Age of employees measured in years.\n",
        "6.   race = Race of employees white or others.\n",
        "\n",
        "\n",
        "\n",
        "\n",
        "\n",
        "\n"
      ]
    },
    {
      "cell_type": "markdown",
      "metadata": {
        "id": "-bvyTbsZOKT4"
      },
      "source": [
        "--------------------\n",
        "### Summary statistics and correlations\n",
        "\n",
        "Let's explore the dataset by plotting some graphs and displaying summary statistics. \n",
        "\n",
        "The code below should display:\n",
        "- Min, max, average, and median salary (global)\n",
        "- A histogram of salaries\n",
        "- A scatterplot correlating salaries and years of education\n",
        "- The (Pearson) correlation coefficient between the two variables.\n",
        "\n",
        "This should help us get started."
      ]
    },
    {
      "cell_type": "code",
      "metadata": {
        "id": "jai0zaQ1OKT5",
        "colab": {
          "base_uri": "https://localhost:8080/",
          "height": 102
        },
        "outputId": "4e3494fe-5284-4007-c2c0-d07f28fdb63f"
      },
      "source": [
        "salary = np.array(salaries['earn'])\n",
        "print(\"--- Salary statistics ---\")\n",
        "print(\"Minimum salary (global): ${:6.2f}\".format(np.min(salary)))\n",
        "print(\"Maximum salary (global): ${:6.2f}\".format(np.max(salary)))\n",
        "print(\"Average salary (global): ${:6.2f}\".format(np.mean(salary)))\n",
        "print(\"Median  salary (global): ${:6.2f}\".format(np.median(salary)))"
      ],
      "execution_count": null,
      "outputs": [
        {
          "output_type": "stream",
          "text": [
            "--- Salary statistics ---\n",
            "Minimum salary (global): $200.00\n",
            "Maximum salary (global): $200000.00\n",
            "Average salary (global): $23154.77\n",
            "Median  salary (global): $20000.00\n"
          ],
          "name": "stdout"
        }
      ]
    },
    {
      "cell_type": "code",
      "metadata": {
        "id": "MQSn8R8MOKT6",
        "colab": {
          "base_uri": "https://localhost:8080/",
          "height": 301
        },
        "outputId": "26759f6f-934a-40ae-8cfc-c785d1685cd8"
      },
      "source": [
        "plt.hist(salary)\n",
        "plt.title('Salary Distribution')\n",
        "plt.xlabel('Salary')\n",
        "plt.ylabel('Number of Employees');"
      ],
      "execution_count": null,
      "outputs": [
        {
          "output_type": "display_data",
          "data": {
            "image/png": "[encoded data removed]",
            "text/plain": [
              "<Figure size 432x288 with 1 Axes>"
            ]
          },
          "metadata": {
            "tags": [],
            "needs_background": "light"
          }
        }
      ]
    },
    {
      "cell_type": "code",
      "metadata": {
        "id": "DIcrOnZ4OKT8",
        "colab": {
          "base_uri": "https://localhost:8080/",
          "height": 301
        },
        "outputId": "1ede5eed-1e50-4505-8791-1779239c7b17"
      },
      "source": [
        "years = np.array(salaries['ed'])\n",
        "plt.title('Salary vs. Education Level')\n",
        "plt.ylabel('Salary')\n",
        "plt.xlabel('Years of education');\n",
        "plt.scatter(years, salary, alpha=0.5)\n",
        "plt.show()"
      ],
      "execution_count": null,
      "outputs": [
        {
          "output_type": "display_data",
          "data": {
            "image/png": "[encoded data removed]",
            "text/plain": [
              "<Figure size 432x288 with 1 Axes>"
            ]
          },
          "metadata": {
            "tags": [],
            "needs_background": "light"
          }
        }
      ]
    },
    {
      "cell_type": "code",
      "metadata": {
        "id": "fllJH1rfOKT_",
        "colab": {
          "base_uri": "https://localhost:8080/",
          "height": 34
        },
        "outputId": "5e29edf7-1641-4533-aeaf-40ff47d4e6a8"
      },
      "source": [
        "# Compute Pearson coefficient\n",
        "corr, _ = pearsonr(salary,years)\n",
        "print('Correlation coefficient: ',corr)"
      ],
      "execution_count": null,
      "outputs": [
        {
          "output_type": "stream",
          "text": [
            "Correlation coefficient:  0.3399765246894847\n"
          ],
          "name": "stdout"
        }
      ]
    },
    {
      "cell_type": "markdown",
      "metadata": {
        "id": "-n2_sL4UOKUA"
      },
      "source": [
        "The Pearson correlation coefficient (a value between -1 and 1) can be used to summarize the strength of the linear relationship between two data samples.\n",
        "\n",
        "A simplified way to interpret the result is:\n",
        "- A value of 0 means no correlation\n",
        "- Values below -0.5 or above 0.5 indicates a notable (negative/positive) correlation"
      ]
    },
    {
      "cell_type": "markdown",
      "metadata": {
        "id": "oVXf-zPyOKUB"
      },
      "source": [
        "### 1.2 Your turn! (10-14 points)\n",
        "\n",
        "Write code to:\n",
        "\n",
        "1. Display the total headcount and the number (and %) of male and female employees. (2 pts)\n",
        "2. Compute and display the min, max, average, and median salary *per gender*. (8 pts)\n",
        "3. (OPTIONAL) Plot meaningful graphs that could provide insight into the gender inequality (*if any is present*) associated with the salaries in the company. (<= 4 bonus points)\n"
      ]
    },
    {
      "cell_type": "code",
      "metadata": {
        "id": "PyzLB_FILa6y"
      },
      "source": [
        "\n",
        "#Total headcount and percentage\n",
        "\n",
        "#Create Variables to find the count\n",
        "counts = salaries.sex.value_counts() # Total Headcount by gender. Value_count returns object counts with unique values\n",
        "percent = salaries.sex.value_counts(normalize=True).mul(100).round(1).astype(str)+'%' # Percentage by gender\n",
        "head_count=pd.DataFrame({'Counts':counts,'Percent':percent}) # Makes a DataFrame to include the variables\n",
        "\n",
        "#Statistical Data\n",
        "\n",
        "# Use groupby and aggregate to find values, and adds them to a dataframe.\n",
        "descriptive = salaries[['sex','earn']].groupby('sex').aggregate(['min','max','mean','median','std'])\n"
      ],
      "execution_count": null,
      "outputs": []
    },
    {
      "cell_type": "code",
      "metadata": {
        "id": "u2kKtDOOJMcl",
        "colab": {
          "base_uri": "https://localhost:8080/",
          "height": 128
        },
        "outputId": "422e07d1-9737-4999-e1fa-dee2fc14781c"
      },
      "source": [
        "print(\"Gender headcount\")\n",
        "head_count"
      ],
      "execution_count": null,
      "outputs": [
        {
          "output_type": "stream",
          "text": [
            "Gender headcount\n"
          ],
          "name": "stdout"
        },
        {
          "output_type": "execute_result",
          "data": {
            "text/html": [
              "<div>\n",
              "<style scoped>\n",
              "    .dataframe tbody tr th:only-of-type {\n",
              "        vertical-align: middle;\n",
              "    }\n",
              "\n",
              "    .dataframe tbody tr th {\n",
              "        vertical-align: top;\n",
              "    }\n",
              "\n",
              "    .dataframe thead th {\n",
              "        text-align: right;\n",
              "    }\n",
              "</style>\n",
              "<table border=\"1\" class=\"dataframe\">\n",
              "  <thead>\n",
              "    <tr style=\"text-align: right;\">\n",
              "      <th></th>\n",
              "      <th>Counts</th>\n",
              "      <th>Percent</th>\n",
              "    </tr>\n",
              "  </thead>\n",
              "  <tbody>\n",
              "    <tr>\n",
              "      <th>Female</th>\n",
              "      <td>687</td>\n",
              "      <td>57.6%</td>\n",
              "    </tr>\n",
              "    <tr>\n",
              "      <th>Male</th>\n",
              "      <td>505</td>\n",
              "      <td>42.4%</td>\n",
              "    </tr>\n",
              "  </tbody>\n",
              "</table>\n",
              "</div>"
            ],
            "text/plain": [
              "        Counts Percent\n",
              "Female     687   57.6%\n",
              "Male       505   42.4%"
            ]
          },
          "metadata": {
            "tags": []
          },
          "execution_count": 11
        }
      ]
    },
    {
      "cell_type": "code",
      "metadata": {
        "id": "-WSxeEzOJTyu",
        "colab": {
          "base_uri": "https://localhost:8080/",
          "height": 190
        },
        "outputId": "0f807e22-e625-49a2-e7c8-796b6632e550"
      },
      "source": [
        "print('Descriptive data')\n",
        "descriptive"
      ],
      "execution_count": null,
      "outputs": [
        {
          "output_type": "stream",
          "text": [
            "Descriptive data\n"
          ],
          "name": "stdout"
        },
        {
          "output_type": "execute_result",
          "data": {
            "text/html": [
              "<div>\n",
              "<style scoped>\n",
              "    .dataframe tbody tr th:only-of-type {\n",
              "        vertical-align: middle;\n",
              "    }\n",
              "\n",
              "    .dataframe tbody tr th {\n",
              "        vertical-align: top;\n",
              "    }\n",
              "\n",
              "    .dataframe thead tr th {\n",
              "        text-align: left;\n",
              "    }\n",
              "\n",
              "    .dataframe thead tr:last-of-type th {\n",
              "        text-align: right;\n",
              "    }\n",
              "</style>\n",
              "<table border=\"1\" class=\"dataframe\">\n",
              "  <thead>\n",
              "    <tr>\n",
              "      <th></th>\n",
              "      <th colspan=\"5\" halign=\"left\">earn</th>\n",
              "    </tr>\n",
              "    <tr>\n",
              "      <th></th>\n",
              "      <th>min</th>\n",
              "      <th>max</th>\n",
              "      <th>mean</th>\n",
              "      <th>median</th>\n",
              "      <th>std</th>\n",
              "    </tr>\n",
              "    <tr>\n",
              "      <th>sex</th>\n",
              "      <th></th>\n",
              "      <th></th>\n",
              "      <th></th>\n",
              "      <th></th>\n",
              "      <th></th>\n",
              "    </tr>\n",
              "  </thead>\n",
              "  <tbody>\n",
              "    <tr>\n",
              "      <th>Female</th>\n",
              "      <td>200.0</td>\n",
              "      <td>123000.0</td>\n",
              "      <td>18280.195051</td>\n",
              "      <td>15000.0</td>\n",
              "      <td>14259.932378</td>\n",
              "    </tr>\n",
              "    <tr>\n",
              "      <th>Male</th>\n",
              "      <td>1000.0</td>\n",
              "      <td>200000.0</td>\n",
              "      <td>29786.130693</td>\n",
              "      <td>25000.0</td>\n",
              "      <td>23297.816034</td>\n",
              "    </tr>\n",
              "  </tbody>\n",
              "</table>\n",
              "</div>"
            ],
            "text/plain": [
              "          earn                                               \n",
              "           min       max          mean   median           std\n",
              "sex                                                          \n",
              "Female   200.0  123000.0  18280.195051  15000.0  14259.932378\n",
              "Male    1000.0  200000.0  29786.130693  25000.0  23297.816034"
            ]
          },
          "metadata": {
            "tags": []
          },
          "execution_count": 12
        }
      ]
    },
    {
      "cell_type": "code",
      "metadata": {
        "id": "KpvIrK58JUxu",
        "colab": {
          "base_uri": "https://localhost:8080/",
          "height": 698
        },
        "outputId": "29e2c581-1bf4-4614-8c0a-a72975becc35"
      },
      "source": [
        "fig=plt.figure(figsize=(10,10))\n",
        "sns.boxplot(salaries['sex'],y=salaries['earn'])\n",
        "plt.title(\"Gender inequality\")\n",
        "plt.xlabel(\"Salary\")\n",
        "plt.ylabel(\"Gender\")"
      ],
      "execution_count": null,
      "outputs": [
        {
          "output_type": "stream",
          "text": [
            "/usr/local/lib/python3.6/dist-packages/seaborn/_decorators.py:43: FutureWarning: Pass the following variable as a keyword arg: x. From version 0.12, the only valid positional argument will be `data`, and passing other arguments without an explicit keyword will result in an error or misinterpretation.\n",
            "  FutureWarning\n"
          ],
          "name": "stderr"
        },
        {
          "output_type": "execute_result",
          "data": {
            "text/plain": [
              "Text(0, 0.5, 'Gender')"
            ]
          },
          "metadata": {
            "tags": []
          },
          "execution_count": 13
        },
        {
          "output_type": "display_data",
          "data": {
            "image/png": "[encoded data removed]",
            "text/plain": [
              "<Figure size 720x720 with 1 Axes>"
            ]
          },
          "metadata": {
            "tags": [],
            "needs_background": "light"
          }
        }
      ]
    },
    {
      "cell_type": "markdown",
      "metadata": {
        "id": "2MeVVzBfLeV5"
      },
      "source": [
        "Boxplot comparison of gender inequality. We can see a variation in the gender central tendency  where the median salary for males is 25000 while the median for females is 15000.  "
      ]
    },
    {
      "cell_type": "markdown",
      "metadata": {
        "id": "34cWPF_jOKUQ"
      },
      "source": [
        "--------------------\n",
        "### Signs of inequality\n",
        "\n",
        "As you can possibly tell by now, this dataset may help us test hypotheses and answer questions related to possible sources of inequality associated with the salary distribution: gender, age, race, etc.. \n",
        "\n",
        "Let's assume, for the sake of argument, that the number of years of education should correlate well with a person's salary (this is clearly a weak argument and the plot and Pearson correlation coefficient computation above suggests that this is *not* the case) and that other suspiciously high (positive or negative) correlations could be interpreted as a sign of inequality."
      ]
    },
    {
      "cell_type": "markdown",
      "metadata": {
        "id": "R1UaYIHoOKUR"
      },
      "source": [
        "---------------------\n",
        "### Hypotheses H1, H2, H3\n",
        "At this point, we will formulate 3 different hypotheses that might suggest that the salary distribution is biased by factors such as age, gender, or race:\n",
        "\n",
        "- H1: Older employees are paid less (i.e., ageism)\n",
        "- H2: Female employees are paid less (i.e., gender bias)\n",
        "- H3: Non-whites are paid less (i.e, race bias)."
      ]
    },
    {
      "cell_type": "markdown",
      "metadata": {
        "id": "n8odBiXoOKUR"
      },
      "source": [
        "### 1.3 Your turn! (18-26 points)\n",
        "\n",
        "Write Python code to test hypotheses H1, H2, and H3 (and some text to explain whether they were confirmed or not). \n",
        "\n",
        "Feel free to (also) use plots, but make your code independent of a human being interpreting those plots. \n",
        "\n",
        "**Weight**: 18 pts, i.e., 6 pts per hypothesis. \n",
        "Up to 8 bonus points for insightful additional hypotheses, code, and/or comments.  "
      ]
    },
    {
      "cell_type": "markdown",
      "metadata": {
        "id": "rkv4wSP1KeqR"
      },
      "source": [
        "###H1: Older employees are paid less"
      ]
    },
    {
      "cell_type": "code",
      "metadata": {
        "id": "bh7h9mfsLBMw",
        "colab": {
          "base_uri": "https://localhost:8080/",
          "height": 301
        },
        "outputId": "1264ce4c-108f-48c1-dd51-9060a8da6c0a"
      },
      "source": [
        "# Data distribution for age and salaries\n",
        "Age_salary=np.array(salaries['age']) # variable for age and salary\n",
        "sns.set()\n",
        "plt.bar(Age_salary,salary)# Create a graph  comparing age vs salary\n",
        "# Graph description\n",
        "plt.title(\"Age vs Salary\")\n",
        "plt.xlabel(\"Age\")\n",
        "plt.ylabel(\"Salary\")\n",
        "plt.show()\n",
        "\n",
        "\n",
        "\n",
        "\n",
        "\n",
        "\n",
        "\n"
      ],
      "execution_count": null,
      "outputs": [
        {
          "output_type": "display_data",
          "data": {
            "image/png": "[encoded data removed]",
            "text/plain": [
              "<Figure size 432x288 with 1 Axes>"
            ]
          },
          "metadata": {
            "tags": []
          }
        }
      ]
    },
    {
      "cell_type": "code",
      "metadata": {
        "id": "XuAV__jMdEgH"
      },
      "source": [
        ""
      ],
      "execution_count": null,
      "outputs": []
    },
    {
      "cell_type": "markdown",
      "metadata": {
        "id": "4QPgBn7Cv-Ty"
      },
      "source": [
        "We can visualize a significant drop in salary at an older age.\n",
        "\n",
        "\n",
        "\n"
      ]
    },
    {
      "cell_type": "code",
      "metadata": {
        "id": "nH-3aFeDph8a",
        "colab": {
          "base_uri": "https://localhost:8080/",
          "height": 51
        },
        "outputId": "33bb6a80-25f0-4c52-dd5d-8936a8f34a4d"
      },
      "source": [
        "# Create a variable and find possible if their is a correlation \n",
        "salaries['older_employees'] = salaries['age']>60\n",
        "# Pearson correlation it's the ratio of the covariance of age(x) and salary(y) \n",
        "# To the product of their standard deviation\n",
        "r,p=pearsonr(salaries['earn'],salaries['older_employees']) # test for coveriance and the p-value\n",
        "print(f\"Result of the Correlation Coefficient {r} and a P-Value of:{p}.\")\n",
        "print(len(salaries['older_employees']))"
      ],
      "execution_count": null,
      "outputs": [
        {
          "output_type": "stream",
          "text": [
            "Result of the Correlation Coefficient -0.09108937257262509 and a P-Value of:0.0016431308304418399.\n",
            "1192\n"
          ],
          "name": "stdout"
        }
      ]
    },
    {
      "cell_type": "markdown",
      "metadata": {
        "id": "xROb4iALuJIz"
      },
      "source": [
        "There exist a strong negative correlation between older employees above 60 years old and salary. "
      ]
    },
    {
      "cell_type": "code",
      "metadata": {
        "id": "j2QZYOxmwfTT",
        "colab": {
          "base_uri": "https://localhost:8080/",
          "height": 142
        },
        "outputId": "6b391c3a-1dee-41fb-a48d-a51b2737967a"
      },
      "source": [
        "#  Find the median salary for employees according to age and other variables.\n",
        "age_variables=salaries.groupby('older_employees').aggregate(\"median\")\n",
        "#Age_variables.aggregate('median') # Used  median to eliminate any outliers in the data \n",
        "\n",
        "age_variables"
      ],
      "execution_count": null,
      "outputs": [
        {
          "output_type": "execute_result",
          "data": {
            "text/html": [
              "<div>\n",
              "<style scoped>\n",
              "    .dataframe tbody tr th:only-of-type {\n",
              "        vertical-align: middle;\n",
              "    }\n",
              "\n",
              "    .dataframe tbody tr th {\n",
              "        vertical-align: top;\n",
              "    }\n",
              "\n",
              "    .dataframe thead th {\n",
              "        text-align: right;\n",
              "    }\n",
              "</style>\n",
              "<table border=\"1\" class=\"dataframe\">\n",
              "  <thead>\n",
              "    <tr style=\"text-align: right;\">\n",
              "      <th></th>\n",
              "      <th>earn</th>\n",
              "      <th>height</th>\n",
              "      <th>ed</th>\n",
              "      <th>age</th>\n",
              "    </tr>\n",
              "    <tr>\n",
              "      <th>older_employees</th>\n",
              "      <th></th>\n",
              "      <th></th>\n",
              "      <th></th>\n",
              "      <th></th>\n",
              "    </tr>\n",
              "  </thead>\n",
              "  <tbody>\n",
              "    <tr>\n",
              "      <th>False</th>\n",
              "      <td>20000.0</td>\n",
              "      <td>66</td>\n",
              "      <td>13</td>\n",
              "      <td>35</td>\n",
              "    </tr>\n",
              "    <tr>\n",
              "      <th>True</th>\n",
              "      <td>15000.0</td>\n",
              "      <td>65</td>\n",
              "      <td>12</td>\n",
              "      <td>69</td>\n",
              "    </tr>\n",
              "  </tbody>\n",
              "</table>\n",
              "</div>"
            ],
            "text/plain": [
              "                    earn  height  ed  age\n",
              "older_employees                          \n",
              "False            20000.0      66  13   35\n",
              "True             15000.0      65  12   69"
            ]
          },
          "metadata": {
            "tags": []
          },
          "execution_count": 16
        }
      ]
    },
    {
      "cell_type": "code",
      "metadata": {
        "id": "V2WyEOxPEGRt"
      },
      "source": [
        ""
      ],
      "execution_count": null,
      "outputs": []
    },
    {
      "cell_type": "markdown",
      "metadata": {
        "id": "ylsSA3g6MGB3"
      },
      "source": [
        "###H2: Female employees are pay less"
      ]
    },
    {
      "cell_type": "code",
      "metadata": {
        "id": "6RCqC-wEMMpw",
        "colab": {
          "base_uri": "https://localhost:8080/",
          "height": 644
        },
        "outputId": "41c2335c-d228-41e5-9358-4f7d05acdb8b"
      },
      "source": [
        "# Create a boxplot to compare the data\n",
        "plt.figure(figsize=(10,10)) \n",
        "sns.boxplot(x='sex',y='earn',data=salaries)# Boxplot for Gender and salary\n",
        "plt.ylabel(\"yearly income ($)\",fontsize=12) \n",
        "plt.xlabel(\"Gender\")\n",
        "plt.title(\"Distribution of yearly income\")\n",
        "plt.show\n"
      ],
      "execution_count": null,
      "outputs": [
        {
          "output_type": "execute_result",
          "data": {
            "text/plain": [
              "<function matplotlib.pyplot.show>"
            ]
          },
          "metadata": {
            "tags": []
          },
          "execution_count": 17
        },
        {
          "output_type": "display_data",
          "data": {
            "image/png": "[encoded data removed]",
            "text/plain": [
              "<Figure size 720x720 with 1 Axes>"
            ]
          },
          "metadata": {
            "tags": []
          }
        }
      ]
    },
    {
      "cell_type": "markdown",
      "metadata": {
        "id": "6RBqIp9pWW2g"
      },
      "source": [
        "There exist a variation in the median salary between male and female. "
      ]
    },
    {
      "cell_type": "code",
      "metadata": {
        "id": "tkHPhiHTRrGz",
        "colab": {
          "base_uri": "https://localhost:8080/",
          "height": 34
        },
        "outputId": "702f87da-e26a-4678-e462-40abef9157d0"
      },
      "source": [
        "# Create a hypothesis to prove a bias in the data\n",
        "female_salaries=salaries['sex']=='Female' #Variable to find the subgroup of female in sex\n",
        "male_salaries=salaries['sex']=='Male'# Variable to find the subgroup of male in sex\n",
        "female_median=salaries[female_salaries]['earn'].median()# Find the median of females salaries\n",
        "male_median= salaries[male_salaries]['earn'].median()# Find the median of male salaries\n",
        "\n",
        "if male_median>female_median:\n",
        "  print(\"H1  hypothesis is true\")\n",
        "else:\n",
        "  print(\"H1 hypothesis is false\")\n",
        "\n"
      ],
      "execution_count": null,
      "outputs": [
        {
          "output_type": "stream",
          "text": [
            "H1  hypothesis is true\n"
          ],
          "name": "stdout"
        }
      ]
    },
    {
      "cell_type": "code",
      "metadata": {
        "id": "7xMR5yN1aOAp"
      },
      "source": [
        ""
      ],
      "execution_count": null,
      "outputs": []
    },
    {
      "cell_type": "code",
      "metadata": {
        "id": "KWfKbGncS4gA",
        "colab": {
          "base_uri": "https://localhost:8080/",
          "height": 51
        },
        "outputId": "90da42c9-10bb-44b5-fd68-e0da78f7e6dc"
      },
      "source": [
        "# test for a correlation \n",
        "corr,p = pearsonr(salaries['earn'],female_salaries)\n",
        "print('Female correlation',corr,p)\n",
        "corr,p = pearsonr(salaries['earn'],male_salaries)\n",
        "print(\"Male correlation\",corr,p)\n"
      ],
      "execution_count": null,
      "outputs": [
        {
          "output_type": "stream",
          "text": [
            "Female correlation -0.2921021854657078 7.060592775977876e-25\n",
            "Male correlation 0.2921021854657079 7.060592775977876e-25\n"
          ],
          "name": "stdout"
        }
      ]
    },
    {
      "cell_type": "code",
      "metadata": {
        "id": "_5aXX0Of4rkL",
        "colab": {
          "base_uri": "https://localhost:8080/",
          "height": 142
        },
        "outputId": "af68ff54-d3bd-41af-897a-2211e23a3c97"
      },
      "source": [
        "# Possible other correlation \n",
        "salaries.groupby('sex').mean()"
      ],
      "execution_count": null,
      "outputs": [
        {
          "output_type": "execute_result",
          "data": {
            "text/html": [
              "<div>\n",
              "<style scoped>\n",
              "    .dataframe tbody tr th:only-of-type {\n",
              "        vertical-align: middle;\n",
              "    }\n",
              "\n",
              "    .dataframe tbody tr th {\n",
              "        vertical-align: top;\n",
              "    }\n",
              "\n",
              "    .dataframe thead th {\n",
              "        text-align: right;\n",
              "    }\n",
              "</style>\n",
              "<table border=\"1\" class=\"dataframe\">\n",
              "  <thead>\n",
              "    <tr style=\"text-align: right;\">\n",
              "      <th></th>\n",
              "      <th>earn</th>\n",
              "      <th>height</th>\n",
              "      <th>ed</th>\n",
              "      <th>age</th>\n",
              "      <th>older_employees</th>\n",
              "    </tr>\n",
              "    <tr>\n",
              "      <th>sex</th>\n",
              "      <th></th>\n",
              "      <th></th>\n",
              "      <th></th>\n",
              "      <th></th>\n",
              "      <th></th>\n",
              "    </tr>\n",
              "  </thead>\n",
              "  <tbody>\n",
              "    <tr>\n",
              "      <th>Female</th>\n",
              "      <td>18280.195051</td>\n",
              "      <td>64.116448</td>\n",
              "      <td>13.436681</td>\n",
              "      <td>42.259098</td>\n",
              "      <td>0.161572</td>\n",
              "    </tr>\n",
              "    <tr>\n",
              "      <th>Male</th>\n",
              "      <td>29786.130693</td>\n",
              "      <td>69.556436</td>\n",
              "      <td>13.596040</td>\n",
              "      <td>40.180198</td>\n",
              "      <td>0.142574</td>\n",
              "    </tr>\n",
              "  </tbody>\n",
              "</table>\n",
              "</div>"
            ],
            "text/plain": [
              "                earn     height         ed        age  older_employees\n",
              "sex                                                                   \n",
              "Female  18280.195051  64.116448  13.436681  42.259098         0.161572\n",
              "Male    29786.130693  69.556436  13.596040  40.180198         0.142574"
            ]
          },
          "metadata": {
            "tags": []
          },
          "execution_count": 20
        }
      ]
    },
    {
      "cell_type": "markdown",
      "metadata": {
        "id": "w9jV1TgjKpg9"
      },
      "source": [
        "There exist a moderate negative correlation between female and salary. However, there is a positive correlation between male and salary. Thus we can conclude that Females are paid less in this population and demostrated by the correlation. "
      ]
    },
    {
      "cell_type": "markdown",
      "metadata": {
        "id": "JE_UdkqxMPCJ"
      },
      "source": [
        "###H3:Non-Whites employees are paid less."
      ]
    },
    {
      "cell_type": "code",
      "metadata": {
        "id": "runffTqPMQLM",
        "colab": {
          "base_uri": "https://localhost:8080/",
          "height": 627
        },
        "outputId": "8e318c32-e31c-4962-cf36-0787b58a6914"
      },
      "source": [
        "# H3 Plot a boxplot to compare the median of race and income\n",
        "plt.figure(figsize=(10,10))\n",
        "sns.boxplot(x=\"race\",y=\"earn\",data=salaries)\n",
        "plt.ylabel(\"Salary\")\n",
        "plt.xlabel(\"Race\")\n",
        "plt.title(\"Race and Income\")\n",
        "plt.show()"
      ],
      "execution_count": null,
      "outputs": [
        {
          "output_type": "display_data",
          "data": {
            "image/png": "[encoded data removed]",
            "text/plain": [
              "<Figure size 720x720 with 1 Axes>"
            ]
          },
          "metadata": {
            "tags": []
          }
        }
      ]
    },
    {
      "cell_type": "markdown",
      "metadata": {
        "id": "HNHjlOtxeCah"
      },
      "source": [
        "We can intepret there is a small variance in the median salary in between races. Futher, calculations are necessary."
      ]
    },
    {
      "cell_type": "code",
      "metadata": {
        "id": "aAgh4iwwywzZ",
        "colab": {
          "base_uri": "https://localhost:8080/",
          "height": 235
        },
        "outputId": "1084fc93-dec5-4514-a048-e479568499d5"
      },
      "source": [
        "# Find the statistics for race and salary\n",
        "non_whites=salaries[\"race\"]!=\"white\" # variable for nonwhites as values that are not white.\n",
        "# Groupby and aggregate to the list stats values\n",
        "race_stat=salaries[['race','earn']].groupby('race').aggregate(['min','max','mean','median','std'])\n",
        "race_stat\n"
      ],
      "execution_count": null,
      "outputs": [
        {
          "output_type": "execute_result",
          "data": {
            "text/html": [
              "<div>\n",
              "<style scoped>\n",
              "    .dataframe tbody tr th:only-of-type {\n",
              "        vertical-align: middle;\n",
              "    }\n",
              "\n",
              "    .dataframe tbody tr th {\n",
              "        vertical-align: top;\n",
              "    }\n",
              "\n",
              "    .dataframe thead tr th {\n",
              "        text-align: left;\n",
              "    }\n",
              "\n",
              "    .dataframe thead tr:last-of-type th {\n",
              "        text-align: right;\n",
              "    }\n",
              "</style>\n",
              "<table border=\"1\" class=\"dataframe\">\n",
              "  <thead>\n",
              "    <tr>\n",
              "      <th></th>\n",
              "      <th colspan=\"5\" halign=\"left\">earn</th>\n",
              "    </tr>\n",
              "    <tr>\n",
              "      <th></th>\n",
              "      <th>min</th>\n",
              "      <th>max</th>\n",
              "      <th>mean</th>\n",
              "      <th>median</th>\n",
              "      <th>std</th>\n",
              "    </tr>\n",
              "    <tr>\n",
              "      <th>race</th>\n",
              "      <th></th>\n",
              "      <th></th>\n",
              "      <th></th>\n",
              "      <th></th>\n",
              "      <th></th>\n",
              "    </tr>\n",
              "  </thead>\n",
              "  <tbody>\n",
              "    <tr>\n",
              "      <th>black</th>\n",
              "      <td>600.0</td>\n",
              "      <td>60000.0</td>\n",
              "      <td>19624.214286</td>\n",
              "      <td>20000.0</td>\n",
              "      <td>11947.743273</td>\n",
              "    </tr>\n",
              "    <tr>\n",
              "      <th>hispanic</th>\n",
              "      <td>1400.0</td>\n",
              "      <td>55000.0</td>\n",
              "      <td>18263.636364</td>\n",
              "      <td>16000.0</td>\n",
              "      <td>12832.526418</td>\n",
              "    </tr>\n",
              "    <tr>\n",
              "      <th>other</th>\n",
              "      <td>3000.0</td>\n",
              "      <td>110000.0</td>\n",
              "      <td>23096.640000</td>\n",
              "      <td>20000.0</td>\n",
              "      <td>21790.796580</td>\n",
              "    </tr>\n",
              "    <tr>\n",
              "      <th>white</th>\n",
              "      <td>200.0</td>\n",
              "      <td>200000.0</td>\n",
              "      <td>23882.469161</td>\n",
              "      <td>20000.0</td>\n",
              "      <td>20374.730127</td>\n",
              "    </tr>\n",
              "  </tbody>\n",
              "</table>\n",
              "</div>"
            ],
            "text/plain": [
              "            earn                                               \n",
              "             min       max          mean   median           std\n",
              "race                                                           \n",
              "black      600.0   60000.0  19624.214286  20000.0  11947.743273\n",
              "hispanic  1400.0   55000.0  18263.636364  16000.0  12832.526418\n",
              "other     3000.0  110000.0  23096.640000  20000.0  21790.796580\n",
              "white      200.0  200000.0  23882.469161  20000.0  20374.730127"
            ]
          },
          "metadata": {
            "tags": []
          },
          "execution_count": 22
        }
      ]
    },
    {
      "cell_type": "markdown",
      "metadata": {
        "id": "m6SPErFYfFYY"
      },
      "source": [
        "There exist a small variance in salary between races. However, there exists a significant percentage of outlier for whites in the data. White's maximum salary is 20000 compared to other races that are significantly lower.Therefore, we cannot determine if there exists a significant level of discrimination."
      ]
    },
    {
      "cell_type": "markdown",
      "metadata": {
        "id": "fiXV2xUI7lUZ"
      },
      "source": [
        "-------------------\n",
        "## Part 2: Fuel consumption"
      ]
    },
    {
      "cell_type": "markdown",
      "metadata": {
        "id": "0EDk6NGk8YsH"
      },
      "source": [
        "The Python code below will load a dataset containing fuel consumption data for ~400 vehicles produced in the 1970s and the 1980s along with some characteristic information associated with each model. \n",
        "\n",
        "Here, *displacement* refers to a vehicle's engine size and the fuel efficiency is measured in miles per gallon (mpg).\n",
        "\n",
        "See:\n",
        "https://archive.ics.uci.edu/ml/datasets/Auto+MPG for additional information."
      ]
    },
    {
      "cell_type": "code",
      "metadata": {
        "id": "4dkSabDG5gjc",
        "colab": {
          "base_uri": "https://localhost:8080/",
          "height": 34
        },
        "outputId": "e271d1ed-6cb2-4e65-a8ca-c24a3da04997"
      },
      "source": [
        "data = pd.read_csv(\"http://archive.ics.uci.edu/ml/machine-learning-databases/auto-mpg/auto-mpg.data-original\",\n",
        "                   delim_whitespace = True, header=None,\n",
        "                   names = ['mpg', 'cylinders', 'displacement', 'horsepower', 'weight', 'acceleration',\n",
        "                            'model', 'origin', 'car_name'])\n",
        "print(data.shape)"
      ],
      "execution_count": null,
      "outputs": [
        {
          "output_type": "stream",
          "text": [
            "(406, 9)\n"
          ],
          "name": "stdout"
        }
      ]
    },
    {
      "cell_type": "code",
      "metadata": {
        "id": "WVNr-0SxD7Ai",
        "colab": {
          "base_uri": "https://localhost:8080/",
          "height": 204
        },
        "outputId": "972f313a-a914-49a6-e8a0-e1000551bed1"
      },
      "source": [
        "data.dropna(inplace=True) # Remove missing values\n",
        "data.head()\n"
      ],
      "execution_count": null,
      "outputs": [
        {
          "output_type": "execute_result",
          "data": {
            "text/html": [
              "<div>\n",
              "<style scoped>\n",
              "    .dataframe tbody tr th:only-of-type {\n",
              "        vertical-align: middle;\n",
              "    }\n",
              "\n",
              "    .dataframe tbody tr th {\n",
              "        vertical-align: top;\n",
              "    }\n",
              "\n",
              "    .dataframe thead th {\n",
              "        text-align: right;\n",
              "    }\n",
              "</style>\n",
              "<table border=\"1\" class=\"dataframe\">\n",
              "  <thead>\n",
              "    <tr style=\"text-align: right;\">\n",
              "      <th></th>\n",
              "      <th>mpg</th>\n",
              "      <th>cylinders</th>\n",
              "      <th>displacement</th>\n",
              "      <th>horsepower</th>\n",
              "      <th>weight</th>\n",
              "      <th>acceleration</th>\n",
              "      <th>model</th>\n",
              "      <th>origin</th>\n",
              "      <th>car_name</th>\n",
              "    </tr>\n",
              "  </thead>\n",
              "  <tbody>\n",
              "    <tr>\n",
              "      <th>0</th>\n",
              "      <td>18.0</td>\n",
              "      <td>8.0</td>\n",
              "      <td>307.0</td>\n",
              "      <td>130.0</td>\n",
              "      <td>3504.0</td>\n",
              "      <td>12.0</td>\n",
              "      <td>70.0</td>\n",
              "      <td>1.0</td>\n",
              "      <td>chevrolet chevelle malibu</td>\n",
              "    </tr>\n",
              "    <tr>\n",
              "      <th>1</th>\n",
              "      <td>15.0</td>\n",
              "      <td>8.0</td>\n",
              "      <td>350.0</td>\n",
              "      <td>165.0</td>\n",
              "      <td>3693.0</td>\n",
              "      <td>11.5</td>\n",
              "      <td>70.0</td>\n",
              "      <td>1.0</td>\n",
              "      <td>buick skylark 320</td>\n",
              "    </tr>\n",
              "    <tr>\n",
              "      <th>2</th>\n",
              "      <td>18.0</td>\n",
              "      <td>8.0</td>\n",
              "      <td>318.0</td>\n",
              "      <td>150.0</td>\n",
              "      <td>3436.0</td>\n",
              "      <td>11.0</td>\n",
              "      <td>70.0</td>\n",
              "      <td>1.0</td>\n",
              "      <td>plymouth satellite</td>\n",
              "    </tr>\n",
              "    <tr>\n",
              "      <th>3</th>\n",
              "      <td>16.0</td>\n",
              "      <td>8.0</td>\n",
              "      <td>304.0</td>\n",
              "      <td>150.0</td>\n",
              "      <td>3433.0</td>\n",
              "      <td>12.0</td>\n",
              "      <td>70.0</td>\n",
              "      <td>1.0</td>\n",
              "      <td>amc rebel sst</td>\n",
              "    </tr>\n",
              "    <tr>\n",
              "      <th>4</th>\n",
              "      <td>17.0</td>\n",
              "      <td>8.0</td>\n",
              "      <td>302.0</td>\n",
              "      <td>140.0</td>\n",
              "      <td>3449.0</td>\n",
              "      <td>10.5</td>\n",
              "      <td>70.0</td>\n",
              "      <td>1.0</td>\n",
              "      <td>ford torino</td>\n",
              "    </tr>\n",
              "  </tbody>\n",
              "</table>\n",
              "</div>"
            ],
            "text/plain": [
              "    mpg  cylinders  displacement  ...  model  origin                   car_name\n",
              "0  18.0        8.0         307.0  ...   70.0     1.0  chevrolet chevelle malibu\n",
              "1  15.0        8.0         350.0  ...   70.0     1.0          buick skylark 320\n",
              "2  18.0        8.0         318.0  ...   70.0     1.0         plymouth satellite\n",
              "3  16.0        8.0         304.0  ...   70.0     1.0              amc rebel sst\n",
              "4  17.0        8.0         302.0  ...   70.0     1.0                ford torino\n",
              "\n",
              "[5 rows x 9 columns]"
            ]
          },
          "metadata": {
            "tags": []
          },
          "execution_count": 24
        }
      ]
    },
    {
      "cell_type": "markdown",
      "metadata": {
        "id": "MArizMt0_P1A"
      },
      "source": [
        "### 2.1 Your turn! (10-12 points)\n",
        "\n",
        "Write code to:\n",
        "\n",
        "1. Count the number of 3- and 5-cylinder vehicles in the dataset, display the count, and discard those entries (rows). (6 pts)\n",
        "2. Compute and display the min, max, and average fuel consumption (in mpg) for 4-, 6-, and 8-cylinder vehicles. (4 pts)\n",
        "3. (OPTIONAL) Display the name of the most and least fuel efficient vehicles in the dataset (<= 2 points)\n"
      ]
    },
    {
      "cell_type": "code",
      "metadata": {
        "id": "mZAzqwkfNHmy",
        "colab": {
          "base_uri": "https://localhost:8080/",
          "height": 51
        },
        "outputId": "548871ea-6796-4fc3-80e8-f6a4210a2a27"
      },
      "source": [
        "\n",
        "#Get indexes in column with 3 cylinders\n",
        "cylinder_three=data[data['cylinders']==3].index#  3 pistons engines in the column\n",
        "print(f\"The number of three cylinders {len(cylinder_three)}.\") # print the lenght of 3 pistons engines in the column\n",
        "\n",
        "cylinder_five=data[data['cylinders']==5].index #  5 pistons engines in the column\n",
        "print(f\"The number of five cylinders {len(cylinder_five)}.\")# print the lenght of 5 pistons engines in the column\n",
        "\n",
        "\n",
        "\n",
        "\n"
      ],
      "execution_count": null,
      "outputs": [
        {
          "output_type": "stream",
          "text": [
            "The number of three cylinders 4.\n",
            "The number of five cylinders 3.\n"
          ],
          "name": "stdout"
        }
      ]
    },
    {
      "cell_type": "code",
      "metadata": {
        "id": "YoJOcqsttFzE",
        "colab": {
          "base_uri": "https://localhost:8080/",
          "height": 34
        },
        "outputId": "64e78def-e459-42d3-df81-0df745639129"
      },
      "source": [
        "# Discard the entries of 3 and 5 cylinders\n",
        "data.drop(cylinder_three,inplace=True)\n",
        "data.drop(cylinder_five,inplace=True)\n",
        "len(data) # lenght of the data after deleting the entries\n"
      ],
      "execution_count": null,
      "outputs": [
        {
          "output_type": "execute_result",
          "data": {
            "text/plain": [
              "385"
            ]
          },
          "metadata": {
            "tags": []
          },
          "execution_count": 26
        }
      ]
    },
    {
      "cell_type": "code",
      "metadata": {
        "id": "9huyuzHME3sO",
        "colab": {
          "base_uri": "https://localhost:8080/",
          "height": 204
        },
        "outputId": "4e488b1c-685a-4016-de42-a263a45ab3ca"
      },
      "source": [
        "#Compute and Display min,max and avarage fuel consumption.\n",
        "data[['mpg','cylinders']].groupby('cylinders').aggregate(['min','max','mean'])"
      ],
      "execution_count": null,
      "outputs": [
        {
          "output_type": "execute_result",
          "data": {
            "text/html": [
              "<div>\n",
              "<style scoped>\n",
              "    .dataframe tbody tr th:only-of-type {\n",
              "        vertical-align: middle;\n",
              "    }\n",
              "\n",
              "    .dataframe tbody tr th {\n",
              "        vertical-align: top;\n",
              "    }\n",
              "\n",
              "    .dataframe thead tr th {\n",
              "        text-align: left;\n",
              "    }\n",
              "\n",
              "    .dataframe thead tr:last-of-type th {\n",
              "        text-align: right;\n",
              "    }\n",
              "</style>\n",
              "<table border=\"1\" class=\"dataframe\">\n",
              "  <thead>\n",
              "    <tr>\n",
              "      <th></th>\n",
              "      <th colspan=\"3\" halign=\"left\">mpg</th>\n",
              "    </tr>\n",
              "    <tr>\n",
              "      <th></th>\n",
              "      <th>min</th>\n",
              "      <th>max</th>\n",
              "      <th>mean</th>\n",
              "    </tr>\n",
              "    <tr>\n",
              "      <th>cylinders</th>\n",
              "      <th></th>\n",
              "      <th></th>\n",
              "      <th></th>\n",
              "    </tr>\n",
              "  </thead>\n",
              "  <tbody>\n",
              "    <tr>\n",
              "      <th>4.0</th>\n",
              "      <td>18.0</td>\n",
              "      <td>46.6</td>\n",
              "      <td>29.283920</td>\n",
              "    </tr>\n",
              "    <tr>\n",
              "      <th>6.0</th>\n",
              "      <td>15.0</td>\n",
              "      <td>38.0</td>\n",
              "      <td>19.973494</td>\n",
              "    </tr>\n",
              "    <tr>\n",
              "      <th>8.0</th>\n",
              "      <td>9.0</td>\n",
              "      <td>26.6</td>\n",
              "      <td>14.963107</td>\n",
              "    </tr>\n",
              "  </tbody>\n",
              "</table>\n",
              "</div>"
            ],
            "text/plain": [
              "            mpg                 \n",
              "            min   max       mean\n",
              "cylinders                       \n",
              "4.0        18.0  46.6  29.283920\n",
              "6.0        15.0  38.0  19.973494\n",
              "8.0         9.0  26.6  14.963107"
            ]
          },
          "metadata": {
            "tags": []
          },
          "execution_count": 27
        }
      ]
    },
    {
      "cell_type": "markdown",
      "metadata": {
        "id": "dWg8ghfHjBJx"
      },
      "source": [
        "Optional problem"
      ]
    },
    {
      "cell_type": "code",
      "metadata": {
        "id": "1bBsEZvAv9U1",
        "colab": {
          "base_uri": "https://localhost:8080/",
          "height": 119
        },
        "outputId": "05762a96-f3aa-406f-f23b-b3d2dc86ac2e"
      },
      "source": [
        "# Display the most and least fuel effient vehicles.\n",
        "\n",
        "Least_Efficient=data[['mpg','car_name']].min()\n",
        "Most_Efficient=data[['mpg','car_name']].max()\n",
        "print(f\"The least efficient car is:{Least_Efficient}\")\n",
        "print(f\"The most efficient car is:{Most_Efficient}\")"
      ],
      "execution_count": null,
      "outputs": [
        {
          "output_type": "stream",
          "text": [
            "The least efficient car is:mpg                               9\n",
            "car_name    amc ambassador brougham\n",
            "dtype: object\n",
            "The most efficient car is:mpg                     46.6\n",
            "car_name    vw rabbit custom\n",
            "dtype: object\n"
          ],
          "name": "stdout"
        }
      ]
    },
    {
      "cell_type": "markdown",
      "metadata": {
        "id": "wVPtqqJyNJ13"
      },
      "source": [
        "*Enter your text here*"
      ]
    },
    {
      "cell_type": "markdown",
      "metadata": {
        "id": "KCU0fOaqAaIJ"
      },
      "source": [
        "--------------------\n",
        "### Hypotheses and questions\n",
        "\n",
        "This dataset may help us test hypotheses and answer questions related to fuel consumption. \n",
        "\n",
        "To get started: Which features of a vehicle correlate best with its mpg --  *displacement*, *weight*, or *horsepower*?"
      ]
    },
    {
      "cell_type": "markdown",
      "metadata": {
        "id": "rzrD2ZFgAaIM"
      },
      "source": [
        "### 2.2. Your turn! (24 points)\n",
        "\n",
        "Write Python code to plot the relationship between (8 pts each):\n",
        "\n",
        "1. Fuel consumption and displacement (engine size)\n",
        "2. Fuel consumption and weight\n",
        "3. Fuel consumption and horsepower (HP)\n"
      ]
    },
    {
      "cell_type": "code",
      "metadata": {
        "id": "sl76_Q4cImR4",
        "colab": {
          "base_uri": "https://localhost:8080/",
          "height": 759
        },
        "outputId": "9896cffe-ad5c-41a9-86ab-9ff628734192"
      },
      "source": [
        "# Create a plot for the different relationships\n",
        "y=data[\"mpg\"]\n",
        "x1=data[\"displacement\"]\n",
        "x2=data[\"weight\"]\n",
        "x3=data[\"horsepower\"]\n",
        "plt.style.use('seaborn') # style used\n",
        "\n",
        "plt.figure(figsize=(20,10))\n",
        "plt.subplot(2,2,1)# Subplot number\n",
        "sns.regplot(x1,y,color=\"red\")# apply regression to the plot\n",
        "plt.title(\"Mpg vs Displacement\")\n",
        "\n",
        "\n",
        "plt.subplot(2,2,2)# subplot number\n",
        "sns.regplot(x2,y,color=\"blue\")# apply regression to the plot\n",
        "plt.title(\"Mpg vs Weight\")\n",
        "\n",
        "plt.subplot(2,2,3)# subplot number\n",
        "sns.regplot(x3,y,color=\"green\")# apply regresion to the plot\n",
        "plt.title(\"Mpg vs Horsepower\")"
      ],
      "execution_count": null,
      "outputs": [
        {
          "output_type": "stream",
          "text": [
            "/usr/local/lib/python3.6/dist-packages/seaborn/_decorators.py:43: FutureWarning: Pass the following variables as keyword args: x, y. From version 0.12, the only valid positional argument will be `data`, and passing other arguments without an explicit keyword will result in an error or misinterpretation.\n",
            "  FutureWarning\n",
            "/usr/local/lib/python3.6/dist-packages/seaborn/_decorators.py:43: FutureWarning: Pass the following variables as keyword args: x, y. From version 0.12, the only valid positional argument will be `data`, and passing other arguments without an explicit keyword will result in an error or misinterpretation.\n",
            "  FutureWarning\n",
            "/usr/local/lib/python3.6/dist-packages/seaborn/_decorators.py:43: FutureWarning: Pass the following variables as keyword args: x, y. From version 0.12, the only valid positional argument will be `data`, and passing other arguments without an explicit keyword will result in an error or misinterpretation.\n",
            "  FutureWarning\n"
          ],
          "name": "stderr"
        },
        {
          "output_type": "execute_result",
          "data": {
            "text/plain": [
              "Text(0.5, 1.0, 'Mpg vs Horsepower')"
            ]
          },
          "metadata": {
            "tags": []
          },
          "execution_count": 31
        },
        {
          "output_type": "display_data",
          "data": {
            "image/png": "[encoded data removed]",
            "text/plain": [
              "<Figure size 1440x720 with 3 Axes>"
            ]
          },
          "metadata": {
            "tags": []
          }
        }
      ]
    },
    {
      "cell_type": "markdown",
      "metadata": {
        "id": "_y2Wmnm4RZv1"
      },
      "source": [
        "There exist a relationship between the graphs. We can conclude that engine size, weight, and horsepower have a negative impact on the perfomance of the vehicle."
      ]
    },
    {
      "cell_type": "markdown",
      "metadata": {
        "id": "0n9yctP0CmC9"
      },
      "source": [
        "\n",
        "\n",
        "### 2.3 Your turn! (20-26 points)\n",
        "\n",
        "Write Python code to produce (box)plots that should provide good answers to the hypotheses H4 and H5 above (and some text to explain whether they were confirmed or not). \n",
        "\n",
        "**Weight**: 20 pts, i.e., 10 pts per hypothesis. \n",
        "Up to 6 bonus points for insightful additional hypotheses, code, and/or comments. \n",
        "\n",
        "Hint: \n",
        "\n",
        "``data['Country_code'] = data.origin.replace([1,2,3],['USA','Europe','Japan'])``\n",
        "\n"
      ]
    },
    {
      "cell_type": "markdown",
      "metadata": {
        "id": "w1mgRwg6dgeJ"
      },
      "source": [
        "##H4: Fuel efficiency improved over the years"
      ]
    },
    {
      "cell_type": "code",
      "metadata": {
        "id": "fqT2s_oBOl9s",
        "colab": {
          "base_uri": "https://localhost:8080/",
          "height": 376
        },
        "outputId": "e477bb9d-20c4-43fa-86c3-82fcc4fcc92d"
      },
      "source": [
        "#Build a boxplot for every model and year\n",
        "plt.figure()\n",
        "sns.boxplot(x='model',y='mpg',data=data)# Boxplot comparing model(year) and Mpg\n",
        "#labels and title\n",
        "plt.xlabel('Years')\n",
        "plt.ylabel(\"Mpg\")\n",
        "plt.title(\"boxplot for fuel effiency over the years\")\n",
        "plt.show()"
      ],
      "execution_count": null,
      "outputs": [
        {
          "output_type": "display_data",
          "data": {
            "image/png": "[encoded data removed]",
            "text/plain": [
              "<Figure size 576x396 with 1 Axes>"
            ]
          },
          "metadata": {
            "tags": []
          }
        }
      ]
    },
    {
      "cell_type": "markdown",
      "metadata": {
        "id": "uWwZVDctnIWt"
      },
      "source": [
        "We can see a slight increase in the median in the plot of years and mpg."
      ]
    },
    {
      "cell_type": "code",
      "metadata": {
        "id": "t93H8CGGbgin",
        "colab": {
          "base_uri": "https://localhost:8080/",
          "height": 393
        },
        "outputId": "62e3d88b-bf38-42ab-f0bf-4aba00bbb0ad"
      },
      "source": [
        "data[['mpg','model']].groupby('model').mean().plot() # plot the mean values of mpg and years\n",
        "# labels\n",
        "plt.title('Mpg vs Years Mean')\n",
        "plt.xlabel(\"Year\")\n",
        "plt.ylabel(\"Mpg Mean\")"
      ],
      "execution_count": null,
      "outputs": [
        {
          "output_type": "execute_result",
          "data": {
            "text/plain": [
              "Text(0, 0.5, 'Mpg Mean')"
            ]
          },
          "metadata": {
            "tags": []
          },
          "execution_count": 33
        },
        {
          "output_type": "display_data",
          "data": {
            "image/png": "[encoded data removed]",
            "text/plain": [
              "<Figure size 576x396 with 1 Axes>"
            ]
          },
          "metadata": {
            "tags": []
          }
        }
      ]
    },
    {
      "cell_type": "markdown",
      "metadata": {
        "id": "5vza83fDncM0"
      },
      "source": [
        "We can clearly see an increase of the mean in car effiency thru the years."
      ]
    },
    {
      "cell_type": "markdown",
      "metadata": {
        "id": "a55Ta4GflDY1"
      },
      "source": [
        "##H5: Japanese cars are more efficient than american and european.\n",
        "\n"
      ]
    },
    {
      "cell_type": "code",
      "metadata": {
        "id": "l040ErJblgZV",
        "colab": {
          "base_uri": "https://localhost:8080/",
          "height": 393
        },
        "outputId": "7f89af7a-836d-45be-d202-b4a460565721"
      },
      "source": [
        "# Creates a boxplot to analyse the hypothesis \n",
        "data['Country_code']= data.origin.replace([1,2,3],['USA','Europe','Japan']) # replace the values with the countries\n",
        "\n",
        "plt.figure()\n",
        "sns.boxplot(data=data,x='Country_code',y='mpg')# Find the median and interquartile\n",
        "#labels\n",
        "plt.xlabel(\"Country\")\n",
        "plt.ylabel(\"Mpg\")\n",
        "plt.title(\"Most Efficient Country\")"
      ],
      "execution_count": null,
      "outputs": [
        {
          "output_type": "execute_result",
          "data": {
            "text/plain": [
              "Text(0.5, 1.0, 'Most Efficient Country')"
            ]
          },
          "metadata": {
            "tags": []
          },
          "execution_count": 34
        },
        {
          "output_type": "display_data",
          "data": {
            "image/png": "[encoded data removed]",
            "text/plain": [
              "<Figure size 576x396 with 1 Axes>"
            ]
          },
          "metadata": {
            "tags": []
          }
        }
      ]
    },
    {
      "cell_type": "markdown",
      "metadata": {
        "id": "WkqQd3ACOnyQ"
      },
      "source": [
        "\n",
        " The median of Japanese cars is higher than those in the USA and Europe. In conclusion, Japanese cars are more efficient than those in other countries."
      ]
    },
    {
      "cell_type": "code",
      "metadata": {
        "id": "YfoJQtwPlbho"
      },
      "source": [
        ""
      ],
      "execution_count": null,
      "outputs": []
    },
    {
      "cell_type": "markdown",
      "metadata": {
        "id": "GLi0m9uuKkpD"
      },
      "source": [
        "### Conclusions (16 points)\n",
        "\n",
        "Write your conclusions and make sure to address the issues below:\n",
        "- What have you learned from this assignment?\n",
        "- Which parts were the most fun, time-consuming, enlightening, tedious?\n",
        "- What would you do if you had an additional week to work on this?"
      ]
    },
    {
      "cell_type": "markdown",
      "metadata": {
        "id": "6_JtoF2cO2RX"
      },
      "source": [
        "### What have you learned from this assigment?\n",
        "The fundamental process of adding multiple  libraries to a set of data. This helped with the manipulation and interpretation of the dataset. These extensions included numpy, pandas, matplotlib, and seaborn. Inside this extension we utilazed groupby, aggregate, and plot to graph the data."
      ]
    },
    {
      "cell_type": "markdown",
      "metadata": {
        "id": "Mu5UPi9ltrh4"
      },
      "source": [
        "###Which parts were the most fun, time-consuming, enlightening, tedious?\n",
        "1. Fun:\n",
        "The most fun and rewarding part was creating visual data analysis to interpret the data.\n",
        "2. Time consuming:\n",
        "Manipulating the data  to remove or  use certains values  was the most time consuming.\n",
        "3. Enlightening:\n",
        "The process of learning to manipulate data with drop, aggregate, and groupby to intepret the results.\n",
        "Tedious:\n",
        "\n",
        "\n",
        "\n",
        "\n",
        "none"
      ]
    },
    {
      "cell_type": "code",
      "metadata": {
        "id": "1sYipd7btqeA"
      },
      "source": [
        ""
      ],
      "execution_count": null,
      "outputs": []
    }
  ]
}